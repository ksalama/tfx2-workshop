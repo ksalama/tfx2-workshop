{
 "cells": [
  {
   "cell_type": "markdown",
   "metadata": {},
   "source": [
    "# Compile and Deploy the TFX Pipeline to KFP\n",
    "\n",
    "This Notebook helps you to compile the **TFX Pipeline** to a **KFP package**. This will creat an **Argo YAML** file in a **.tar.gz** package. We perform the following steps:\n",
    "1. Build a custom container image that include our modules\n",
    "2. Compile TFX Pipeline using CLI\n",
    "3. Deploy the compiled pipeline to KFP \n"
   ]
  },
  {
   "cell_type": "markdown",
   "metadata": {},
   "source": [
    "## 0. Set compile time variables"
   ]
  },
  {
   "cell_type": "code",
   "execution_count": null,
   "metadata": {},
   "outputs": [],
   "source": [
    "import os\n",
    "\n",
    "os.environ[\"PROJECT_ID\"]=\"ksalama-research\" # Set your project\n",
    "\n",
    "os.environ[\"IMAGE_NAME\"]=\"tfx-image\"\n",
    "os.environ[\"TAG\"]=\"latest\"\n",
    "os.environ[\"KFP_TFX_IMAGE\"]=\"gcr.io/{}/{}:{}\".format(\n",
    "    os.environ.get(\"PROJECT_ID\"), \n",
    "    os.environ.get(\"IMAGE_NAME\"),\n",
    "    os.environ.get(\"TAG\"))\n",
    "\n",
    "os.environ[\"NAMESPACE\"]=\"kubeflow-pipelines\"\n",
    "os.environ[\"GCP_REGION\"]=\"europe-west1\" # Set your region\n",
    "os.environ[\"ARTIFACT_STORE_URI\"]=\"gs://ks-kfp-artifact-store\" # Set your GCS Bucket\n",
    "os.environ[\"GCS_STAGING_PATH\"]=os.environ.get(\"ARTIFACT_STORE_URI\")+\"/staging\"\n",
    "os.environ[\"GKE_CLUSTER_NAME\"]=\"ks-ml-cluster-01\" # Set your GKE cluster name\n",
    "os.environ[\"GKE_CLUSTER_ZONE\"]=\"europe-west1-b\" # Set your GKE cluster zone\n",
    "os.environ[\"RUNTIME_VERSION\"]=\"1.15\"\n",
    "os.environ[\"PYTHON_VERSION\"]=\"3.7\"\n",
    "os.environ[\"BEAM_RUNNER\"]=\"DirectRunner\"\n",
    "\n",
    "os.environ[\"PIPELINE_NAME\"]=\"tfx_census_classification\""
   ]
  },
  {
   "cell_type": "markdown",
   "metadata": {},
   "source": [
    "## 1. Build Container Image\n",
    "\n",
    "The pipeline uses a custom docker image, which is a derivative of the [tensorflow/tfx:0.21.4](https://hub.docker.com/r/tensorflow/tfx) image, as a runtime execution environment for the pipeline's components. The same image is also used as a a training image used by **AI Platform Training**.\n",
    "\n",
    "The custom image modifies the base image by adding the `modules` and `raw_schema` folders.\n"
   ]
  },
  {
   "cell_type": "code",
   "execution_count": null,
   "metadata": {
    "scrolled": true
   },
   "outputs": [],
   "source": [
    "!gcloud builds submit --tag $KFP_TFX_IMAGE ."
   ]
  },
  {
   "cell_type": "markdown",
   "metadata": {},
   "source": [
    "## 2. Compile TFX Pipeline using CLI"
   ]
  },
  {
   "cell_type": "code",
   "execution_count": null,
   "metadata": {},
   "outputs": [],
   "source": [
    "#!tfx pipeline compile --help"
   ]
  },
  {
   "cell_type": "code",
   "execution_count": null,
   "metadata": {},
   "outputs": [],
   "source": [
    "!tfx pipeline compile \\\n",
    "    --engine=kubeflow \\\n",
    "    --pipeline_path=ml_pipeline/runner.py "
   ]
  },
  {
   "cell_type": "markdown",
   "metadata": {},
   "source": [
    "## 3. Deploy the Compiled Pipeline to KFP"
   ]
  },
  {
   "cell_type": "code",
   "execution_count": null,
   "metadata": {},
   "outputs": [],
   "source": [
    "#!kfp pipeline --help"
   ]
  },
  {
   "cell_type": "code",
   "execution_count": null,
   "metadata": {},
   "outputs": [],
   "source": [
    "%%bash\n",
    "\n",
    "gcloud container clusters get-credentials ${GKE_CLUSTER_NAME} --zone ${GKE_CLUSTER_ZONE}\n",
    "export KFP_ENDPOINT=$(kubectl describe configmap inverse-proxy-config -n ${NAMESPACE} | grep \"googleusercontent.com\")\n",
    "\n",
    "kfp --namespace=${NAMESPACE} --endpoint=${KFP_ENDPOINT} \\\n",
    "    pipeline upload \\\n",
    "    --pipeline-name=${PIPELINE_NAME} \\\n",
    "    ${PIPELINE_NAME}.tar.gz"
   ]
  },
  {
   "cell_type": "markdown",
   "metadata": {},
   "source": [
    "## Use the KFP UI to run the deployed pipeline..."
   ]
  },
  {
   "cell_type": "code",
   "execution_count": null,
   "metadata": {},
   "outputs": [],
   "source": []
  }
 ],
 "metadata": {
  "kernelspec": {
   "display_name": "Python 3",
   "language": "python",
   "name": "python3"
  },
  "language_info": {
   "codemirror_mode": {
    "name": "ipython",
    "version": 3
   },
   "file_extension": ".py",
   "mimetype": "text/x-python",
   "name": "python",
   "nbconvert_exporter": "python",
   "pygments_lexer": "ipython3",
   "version": "3.7.6"
  }
 },
 "nbformat": 4,
 "nbformat_minor": 4
}
