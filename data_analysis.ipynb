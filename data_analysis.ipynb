{
 "cells": [
  {
   "cell_type": "markdown",
   "metadata": {},
   "source": [
    "# Data Analysis and Schema Generation with TFDV\n",
    "\n",
    "This Noteboooks helps performing Exploratory Data Analysis with BigQuery and TensorFlow Data Validation, and covers the following steps:\n",
    "\n",
    "1. **Prepare the training dataset** with BigQuery.\n",
    "2. **Generate statistics** from the training data.\n",
    "3. **Visualise and analyse** the generated statistics.\n",
    "4. **Infer** a **schema** from the generated statistics.\n",
    "5. **Update** the schema with domain knowledge.\n",
    "6. **Validate** the evaluation data against the schema.\n",
    "7. **Save** the schema for later use.\n",
    "\n",
    "The outputs from using this Data Analysis Notebook should be:\n",
    "1. The **BigQuery SQL script** for Data Extraction and Preparation\n",
    "2. The **Schema file** describing the final training dataset\n"
   ]
  },
  {
   "cell_type": "markdown",
   "metadata": {},
   "source": [
    "### Setup"
   ]
  },
  {
   "cell_type": "code",
   "execution_count": null,
   "metadata": {},
   "outputs": [],
   "source": [
    "%load_ext autoreload\n",
    "%autoreload 2"
   ]
  },
  {
   "cell_type": "code",
   "execution_count": null,
   "metadata": {},
   "outputs": [],
   "source": [
    "import os\n",
    "import tensorflow as tf\n",
    "import matplotlib.pyplot as plt\n",
    "import pandas as pd\n",
    "import warnings\n",
    "warnings.simplefilter(action='ignore', category=FutureWarning)\n",
    "\n",
    "WORKSPACE = 'workspace' # you can set to a GCS location\n",
    "DATA_DIR = os.path.join(WORKSPACE, 'data')\n",
    "RAW_SCHEMA_DIR = 'raw_schema'\n",
    "\n",
    "if tf.io.gfile.exists(WORKSPACE):\n",
    "    print(\"Removing previous workspace...\")\n",
    "    tf.io.gfile.rmtree(WORKSPACE)\n",
    "\n",
    "print(\"Creating new workspace...\")\n",
    "tf.io.gfile.mkdir(WORKSPACE)\n",
    "print(\"Creating data directory...\")\n",
    "tf.io.gfile.mkdir(DATA_DIR)"
   ]
  },
  {
   "cell_type": "markdown",
   "metadata": {},
   "source": [
    "## Exploratory Data Analysis with BigQuery"
   ]
  },
  {
   "cell_type": "markdown",
   "metadata": {},
   "source": [
    "### 1. Using BigQuery Magic"
   ]
  },
  {
   "cell_type": "code",
   "execution_count": null,
   "metadata": {},
   "outputs": [],
   "source": [
    "%%bigquery\n",
    "\n",
    "SELECT * \n",
    "FROM \n",
    "    sample_datasets.census\n",
    "LIMIT 5;"
   ]
  },
  {
   "cell_type": "code",
   "execution_count": null,
   "metadata": {},
   "outputs": [],
   "source": [
    "%%bigquery class_distribution\n",
    "\n",
    "SELECT \n",
    "    income_bracket,\n",
    "    count(*) count\n",
    "FROM \n",
    "    sample_datasets.census\n",
    "GROUP BY\n",
    "    income_bracket\n",
    ";"
   ]
  },
  {
   "cell_type": "code",
   "execution_count": null,
   "metadata": {},
   "outputs": [],
   "source": [
    "class_distribution.plot(kind='bar', x='income_bracket', y='count');"
   ]
  },
  {
   "cell_type": "code",
   "execution_count": null,
   "metadata": {},
   "outputs": [],
   "source": [
    "%%bigquery age_vs_education_num\n",
    "\n",
    "SELECT DISTINCT\n",
    "    age,\n",
    "    capital_gain\n",
    "FROM \n",
    "    sample_datasets.census\n",
    "WHERE\n",
    "    capital_gain < 20000\n",
    ";"
   ]
  },
  {
   "cell_type": "code",
   "execution_count": null,
   "metadata": {},
   "outputs": [],
   "source": [
    "age_vs_education_num.describe()"
   ]
  },
  {
   "cell_type": "code",
   "execution_count": null,
   "metadata": {},
   "outputs": [],
   "source": [
    "plt.scatter(\n",
    "    x=age_vs_education_num.age, \n",
    "    y=age_vs_education_num.capital_gain)\n",
    "\n",
    "plt.show()"
   ]
  },
  {
   "cell_type": "markdown",
   "metadata": {},
   "source": [
    "### 2. Write the final SQL Script"
   ]
  },
  {
   "cell_type": "code",
   "execution_count": null,
   "metadata": {},
   "outputs": [],
   "source": [
    "SOURCE_QUERY = \"\"\"\n",
    "    SELECT \n",
    "        age,\n",
    "        workclass,\n",
    "        fnlwgt,\n",
    "        education,\n",
    "        education_num,\n",
    "        marital_status,\n",
    "        occupation,\n",
    "        relationship,\n",
    "        race,\n",
    "        gender,\n",
    "        capital_gain,\n",
    "        capital_loss,\n",
    "        hours_per_week,\n",
    "        native_country,\n",
    "        CASE WHEN income_bracket = ' <=50K' THEN 0 ELSE 1 END AS income_bracket\n",
    "    FROM \n",
    "        @dataset_name.census\n",
    "    WHERE\n",
    "        age <= @age\n",
    "\"\"\""
   ]
  },
  {
   "cell_type": "markdown",
   "metadata": {},
   "source": [
    "### 3. Using google.cloud.bigquery library"
   ]
  },
  {
   "cell_type": "code",
   "execution_count": 19,
   "metadata": {},
   "outputs": [
    {
     "data": {
      "text/html": [
       "<div>\n",
       "<style scoped>\n",
       "    .dataframe tbody tr th:only-of-type {\n",
       "        vertical-align: middle;\n",
       "    }\n",
       "\n",
       "    .dataframe tbody tr th {\n",
       "        vertical-align: top;\n",
       "    }\n",
       "\n",
       "    .dataframe thead th {\n",
       "        text-align: right;\n",
       "    }\n",
       "</style>\n",
       "<table border=\"1\" class=\"dataframe\">\n",
       "  <thead>\n",
       "    <tr style=\"text-align: right;\">\n",
       "      <th></th>\n",
       "      <th>0</th>\n",
       "      <th>1</th>\n",
       "      <th>2</th>\n",
       "      <th>3</th>\n",
       "      <th>4</th>\n",
       "    </tr>\n",
       "  </thead>\n",
       "  <tbody>\n",
       "    <tr>\n",
       "      <th>age</th>\n",
       "      <td>54</td>\n",
       "      <td>32</td>\n",
       "      <td>46</td>\n",
       "      <td>64</td>\n",
       "      <td>67</td>\n",
       "    </tr>\n",
       "    <tr>\n",
       "      <th>workclass</th>\n",
       "      <td>?</td>\n",
       "      <td>Private</td>\n",
       "      <td>Private</td>\n",
       "      <td>Private</td>\n",
       "      <td>Private</td>\n",
       "    </tr>\n",
       "    <tr>\n",
       "      <th>fnlwgt</th>\n",
       "      <td>148657</td>\n",
       "      <td>112137</td>\n",
       "      <td>225065</td>\n",
       "      <td>213391</td>\n",
       "      <td>142097</td>\n",
       "    </tr>\n",
       "    <tr>\n",
       "      <th>education</th>\n",
       "      <td>Preschool</td>\n",
       "      <td>Preschool</td>\n",
       "      <td>Preschool</td>\n",
       "      <td>9th</td>\n",
       "      <td>9th</td>\n",
       "    </tr>\n",
       "    <tr>\n",
       "      <th>education_num</th>\n",
       "      <td>1</td>\n",
       "      <td>1</td>\n",
       "      <td>1</td>\n",
       "      <td>5</td>\n",
       "      <td>5</td>\n",
       "    </tr>\n",
       "    <tr>\n",
       "      <th>marital_status</th>\n",
       "      <td>Married-civ-spouse</td>\n",
       "      <td>Married-civ-spouse</td>\n",
       "      <td>Married-civ-spouse</td>\n",
       "      <td>Married-civ-spouse</td>\n",
       "      <td>Married-civ-spouse</td>\n",
       "    </tr>\n",
       "    <tr>\n",
       "      <th>occupation</th>\n",
       "      <td>?</td>\n",
       "      <td>Machine-op-inspct</td>\n",
       "      <td>Machine-op-inspct</td>\n",
       "      <td>Other-service</td>\n",
       "      <td>Priv-house-serv</td>\n",
       "    </tr>\n",
       "    <tr>\n",
       "      <th>relationship</th>\n",
       "      <td>Wife</td>\n",
       "      <td>Wife</td>\n",
       "      <td>Wife</td>\n",
       "      <td>Wife</td>\n",
       "      <td>Wife</td>\n",
       "    </tr>\n",
       "    <tr>\n",
       "      <th>race</th>\n",
       "      <td>White</td>\n",
       "      <td>Asian-Pac-Islander</td>\n",
       "      <td>White</td>\n",
       "      <td>Black</td>\n",
       "      <td>White</td>\n",
       "    </tr>\n",
       "    <tr>\n",
       "      <th>gender</th>\n",
       "      <td>Female</td>\n",
       "      <td>Female</td>\n",
       "      <td>Female</td>\n",
       "      <td>Female</td>\n",
       "      <td>Female</td>\n",
       "    </tr>\n",
       "    <tr>\n",
       "      <th>capital_gain</th>\n",
       "      <td>0</td>\n",
       "      <td>4508</td>\n",
       "      <td>0</td>\n",
       "      <td>0</td>\n",
       "      <td>0</td>\n",
       "    </tr>\n",
       "    <tr>\n",
       "      <th>capital_loss</th>\n",
       "      <td>0</td>\n",
       "      <td>0</td>\n",
       "      <td>0</td>\n",
       "      <td>0</td>\n",
       "      <td>0</td>\n",
       "    </tr>\n",
       "    <tr>\n",
       "      <th>hours_per_week</th>\n",
       "      <td>40</td>\n",
       "      <td>40</td>\n",
       "      <td>40</td>\n",
       "      <td>40</td>\n",
       "      <td>6</td>\n",
       "    </tr>\n",
       "    <tr>\n",
       "      <th>native_country</th>\n",
       "      <td>Mexico</td>\n",
       "      <td>Cambodia</td>\n",
       "      <td>Mexico</td>\n",
       "      <td>United-States</td>\n",
       "      <td>United-States</td>\n",
       "    </tr>\n",
       "    <tr>\n",
       "      <th>income_bracket</th>\n",
       "      <td>0</td>\n",
       "      <td>0</td>\n",
       "      <td>0</td>\n",
       "      <td>0</td>\n",
       "      <td>0</td>\n",
       "    </tr>\n",
       "  </tbody>\n",
       "</table>\n",
       "</div>"
      ],
      "text/plain": [
       "                                  0                    1                    2  \\\n",
       "age                              54                   32                   46   \n",
       "workclass                         ?              Private              Private   \n",
       "fnlwgt                       148657               112137               225065   \n",
       "education                 Preschool            Preschool            Preschool   \n",
       "education_num                     1                    1                    1   \n",
       "marital_status   Married-civ-spouse   Married-civ-spouse   Married-civ-spouse   \n",
       "occupation                        ?    Machine-op-inspct    Machine-op-inspct   \n",
       "relationship                   Wife                 Wife                 Wife   \n",
       "race                          White   Asian-Pac-Islander                White   \n",
       "gender                       Female               Female               Female   \n",
       "capital_gain                      0                 4508                    0   \n",
       "capital_loss                      0                    0                    0   \n",
       "hours_per_week                   40                   40                   40   \n",
       "native_country               Mexico             Cambodia               Mexico   \n",
       "income_bracket                    0                    0                    0   \n",
       "\n",
       "                                  3                    4  \n",
       "age                              64                   67  \n",
       "workclass                   Private              Private  \n",
       "fnlwgt                       213391               142097  \n",
       "education                       9th                  9th  \n",
       "education_num                     5                    5  \n",
       "marital_status   Married-civ-spouse   Married-civ-spouse  \n",
       "occupation            Other-service      Priv-house-serv  \n",
       "relationship                   Wife                 Wife  \n",
       "race                          Black                White  \n",
       "gender                       Female               Female  \n",
       "capital_gain                      0                    0  \n",
       "capital_loss                      0                    0  \n",
       "hours_per_week                   40                    6  \n",
       "native_country        United-States        United-States  \n",
       "income_bracket                    0                    0  "
      ]
     },
     "execution_count": 19,
     "metadata": {},
     "output_type": "execute_result"
    }
   ],
   "source": [
    "from google.cloud import bigquery\n",
    "\n",
    "client = bigquery.Client()\n",
    "sql = SOURCE_QUERY.replace('@age', '100').replace('@dataset_name', 'sample_dataset')\n",
    "    \n",
    "df = client.query(sql).to_dataframe()\n",
    "df.head().T"
   ]
  },
  {
   "cell_type": "code",
   "execution_count": 20,
   "metadata": {},
   "outputs": [],
   "source": [
    "from modules import sql_utils"
   ]
  },
  {
   "cell_type": "code",
   "execution_count": 21,
   "metadata": {},
   "outputs": [
    {
     "name": "stdout",
     "output_type": "stream",
     "text": [
      "\n",
      "    SELECT \n",
      "        age,\n",
      "        workclass,\n",
      "        fnlwgt,\n",
      "        education,\n",
      "        education_num,\n",
      "        marital_status,\n",
      "        occupation,\n",
      "        relationship,\n",
      "        race,\n",
      "        gender,\n",
      "        capital_gain,\n",
      "        capital_loss,\n",
      "        hours_per_week,\n",
      "        native_country,\n",
      "        CASE WHEN income_bracket = ' <=50K' THEN 0 ELSE 1 END AS income_bracket\n",
      "    FROM \n",
      "        sample_datasets.census\n",
      "    WHERE\n",
      "        age <= 100\n",
      "\n"
     ]
    }
   ],
   "source": [
    "sql = sql_utils.generate_source_query(age=100)\n",
    "print(sql)"
   ]
  },
  {
   "cell_type": "markdown",
   "metadata": {},
   "source": [
    "### 4. Save data to CSV"
   ]
  },
  {
   "cell_type": "code",
   "execution_count": null,
   "metadata": {},
   "outputs": [],
   "source": [
    "TRAIN_DATA_FILE = os.path.join(DATA_DIR,'train.csv')\n",
    "df.to_csv(TRAIN_DATA_FILE, index=False)"
   ]
  },
  {
   "cell_type": "code",
   "execution_count": null,
   "metadata": {},
   "outputs": [],
   "source": [
    "!wc -l $TRAIN_DATA_FILE \n",
    "!head $TRAIN_DATA_FILE "
   ]
  },
  {
   "cell_type": "markdown",
   "metadata": {},
   "source": [
    "## Tensorflow Data Validation for Schema Generation"
   ]
  },
  {
   "cell_type": "code",
   "execution_count": null,
   "metadata": {},
   "outputs": [],
   "source": [
    "import tensorflow_data_validation as tfdv\n",
    "\n",
    "TARGET_FEATURE_NAME = 'income_bracket'\n",
    "WEIGHT_FEATURE_NAME = 'fnlwgt'"
   ]
  },
  {
   "cell_type": "markdown",
   "metadata": {},
   "source": [
    "## 1. Compute Statistics"
   ]
  },
  {
   "cell_type": "code",
   "execution_count": null,
   "metadata": {},
   "outputs": [],
   "source": [
    "train_stats = tfdv.generate_statistics_from_csv(\n",
    "    data_location=TRAIN_DATA_FILE, \n",
    "    column_names=None, # CSV data file include header\n",
    "    stats_options=tfdv.StatsOptions(\n",
    "        weight_feature=WEIGHT_FEATURE_NAME,\n",
    "        label_feature=TARGET_FEATURE_NAME,\n",
    "        sample_rate=1.0\n",
    "    )\n",
    ")"
   ]
  },
  {
   "cell_type": "code",
   "execution_count": null,
   "metadata": {},
   "outputs": [],
   "source": [
    "tfdv.visualize_statistics(train_stats)"
   ]
  },
  {
   "cell_type": "markdown",
   "metadata": {},
   "source": [
    "## 2. Infer Schema"
   ]
  },
  {
   "cell_type": "code",
   "execution_count": null,
   "metadata": {},
   "outputs": [],
   "source": [
    "schema = tfdv.infer_schema(statistics=train_stats)\n",
    "tfdv.display_schema(schema=schema)"
   ]
  },
  {
   "cell_type": "markdown",
   "metadata": {},
   "source": [
    "## 3. Alter the Schema"
   ]
  },
  {
   "cell_type": "code",
   "execution_count": null,
   "metadata": {},
   "outputs": [],
   "source": [
    "# Relax the minimum fraction of values that must come from the domain for feature occupation.\n",
    "occupation = tfdv.get_feature(schema, 'occupation')\n",
    "occupation.distribution_constraints.min_domain_mass = 0.9\n",
    "\n",
    "# Add new value to the domain of feature native_country.\n",
    "native_country_domain = tfdv.get_domain(schema, 'native_country')\n",
    "native_country_domain.value.append('Egypt')\n",
    "\n",
    "# All features are by default in both TRAINING and SERVING environments.\n",
    "schema.default_environment.append('TRAINING')\n",
    "schema.default_environment.append('EVALUATION')\n",
    "schema.default_environment.append('SERVING')\n",
    "\n",
    "# Specify that the class feature is not in SERVING environment.\n",
    "tfdv.get_feature(schema, TARGET_FEATURE_NAME).not_in_environment.append('SERVING')"
   ]
  },
  {
   "cell_type": "markdown",
   "metadata": {},
   "source": [
    "## 4. Save the Schema"
   ]
  },
  {
   "cell_type": "code",
   "execution_count": null,
   "metadata": {},
   "outputs": [],
   "source": [
    "import shutil\n",
    "\n",
    "if os.path.exists(RAW_SCHEMA_DIR):\n",
    "    shutil.rmtree(RAW_SCHEMA_DIR)\n",
    "    \n",
    "os.mkdir(RAW_SCHEMA_DIR)\n",
    "\n",
    "raw_schema_location = os.path.join(RAW_SCHEMA_DIR, 'schema.pbtxt')\n",
    "tfdv.write_schema_text(schema, raw_schema_location)"
   ]
  },
  {
   "cell_type": "markdown",
   "metadata": {},
   "source": [
    "### Test loading saved schema"
   ]
  },
  {
   "cell_type": "code",
   "execution_count": null,
   "metadata": {},
   "outputs": [],
   "source": [
    "tfdv.load_schema_text(raw_schema_location)"
   ]
  }
 ],
 "metadata": {
  "environment": {
   "name": "common-cpu.m50",
   "type": "gcloud",
   "uri": "gcr.io/deeplearning-platform-release/base-cpu:m50"
  },
  "kernelspec": {
   "display_name": "Python 3",
   "language": "python",
   "name": "python3"
  },
  "language_info": {
   "codemirror_mode": {
    "name": "ipython",
    "version": 3
   },
   "file_extension": ".py",
   "mimetype": "text/x-python",
   "name": "python",
   "nbconvert_exporter": "python",
   "pygments_lexer": "ipython3",
   "version": "3.7.6"
  }
 },
 "nbformat": 4,
 "nbformat_minor": 4
}
