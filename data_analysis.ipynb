{
 "cells": [
  {
   "cell_type": "markdown",
   "metadata": {},
   "source": [
    "# Data Analysis and Schema Generation with TFDV\n",
    "\n",
    "This Noteboooks helps performing Exploratory Data Analysis with BigQuery and TensorFlow Data Validation, and covers the following steps:\n",
    "\n",
    "1. **Prepare the training dataset** with BigQuery.\n",
    "2. **Generate statistics** from the training data.\n",
    "3. **Visualise and analyse** the generated statistics.\n",
    "4. **Infer** a **schema** from the generated statistics.\n",
    "5. **Update** the schema with domain knowledge.\n",
    "6. **Validate** the evaluation data against the schema.\n",
    "7. **Save** the schema for later use.\n",
    "\n",
    "The outputs from using this Data Analysis Notebook should be:\n",
    "1. The **BigQuery SQL script** for Data Extraction and Preparation\n",
    "2. The **Schema file** describing the final training dataset\n"
   ]
  },
  {
   "cell_type": "markdown",
   "metadata": {},
   "source": [
    "### Setup"
   ]
  },
  {
   "cell_type": "code",
   "execution_count": null,
   "metadata": {},
   "outputs": [],
   "source": [
    "%load_ext autoreload\n",
    "%autoreload 2"
   ]
  },
  {
   "cell_type": "code",
   "execution_count": null,
   "metadata": {},
   "outputs": [],
   "source": [
    "import os\n",
    "import tensorflow as tf\n",
    "import matplotlib.pyplot as plt\n",
    "import pandas as pd\n",
    "import warnings\n",
    "warnings.simplefilter(action='ignore', category=FutureWarning)\n",
    "\n",
    "WORKSPACE = '_workspace' # you can set to a GCS location\n",
    "DATA_DIR = os.path.join(WORKSPACE, 'data')\n",
    "RAW_SCHEMA_DIR = 'raw_schema'\n",
    "\n",
    "if tf.io.gfile.exists(WORKSPACE):\n",
    "    print(\"Removing previous workspace...\")\n",
    "    tf.io.gfile.rmtree(WORKSPACE)\n",
    "\n",
    "print(\"Creating new workspace...\")\n",
    "tf.io.gfile.mkdir(WORKSPACE)\n",
    "print(\"Creating data directory...\")\n",
    "tf.io.gfile.mkdir(DATA_DIR)"
   ]
  },
  {
   "cell_type": "markdown",
   "metadata": {},
   "source": [
    "## Exploratory Data Analysis with BigQuery"
   ]
  },
  {
   "cell_type": "markdown",
   "metadata": {},
   "source": [
    "### 1. Using BigQuery Magic"
   ]
  },
  {
   "cell_type": "code",
   "execution_count": null,
   "metadata": {},
   "outputs": [],
   "source": [
    "%%bigquery\n",
    "\n",
    "SELECT * \n",
    "FROM \n",
    "    sample_datasets.census\n",
    "LIMIT 5;"
   ]
  },
  {
   "cell_type": "code",
   "execution_count": null,
   "metadata": {},
   "outputs": [],
   "source": [
    "%%bigquery class_distribution\n",
    "\n",
    "SELECT \n",
    "    income_bracket,\n",
    "    count(*) count\n",
    "FROM \n",
    "    sample_datasets.census\n",
    "GROUP BY\n",
    "    income_bracket\n",
    ";"
   ]
  },
  {
   "cell_type": "code",
   "execution_count": null,
   "metadata": {},
   "outputs": [],
   "source": [
    "class_distribution.plot(kind='bar', x='income_bracket', y='count');"
   ]
  },
  {
   "cell_type": "code",
   "execution_count": null,
   "metadata": {},
   "outputs": [],
   "source": [
    "%%bigquery age_vs_education_num\n",
    "\n",
    "SELECT DISTINCT\n",
    "    age,\n",
    "    capital_gain\n",
    "FROM \n",
    "    sample_datasets.census\n",
    "WHERE\n",
    "    capital_gain < 20000\n",
    ";"
   ]
  },
  {
   "cell_type": "code",
   "execution_count": null,
   "metadata": {},
   "outputs": [],
   "source": [
    "age_vs_education_num.describe()"
   ]
  },
  {
   "cell_type": "code",
   "execution_count": null,
   "metadata": {},
   "outputs": [],
   "source": [
    "plt.scatter(\n",
    "    x=age_vs_education_num.age, \n",
    "    y=age_vs_education_num.capital_gain)\n",
    "\n",
    "plt.show()"
   ]
  },
  {
   "cell_type": "markdown",
   "metadata": {},
   "source": [
    "### 2. Write the final SQL Script"
   ]
  },
  {
   "cell_type": "code",
   "execution_count": null,
   "metadata": {},
   "outputs": [],
   "source": [
    "SOURCE_QUERY = \"\"\"\n",
    "    SELECT \n",
    "        age,\n",
    "        TRIM(workclass) AS workclass,\n",
    "        fnlwgt,\n",
    "        TRIM(education) AS education,\n",
    "        education_num,\n",
    "        TRIM(marital_status) AS marital_status,\n",
    "        TRIM(occupation) AS occupation,\n",
    "        TRIM(relationship) AS relationship,\n",
    "        TRIM(race) AS race,\n",
    "        TRIM(gender) AS gender,\n",
    "        capital_gain,\n",
    "        capital_loss,\n",
    "        hours_per_week,\n",
    "        TRIM(native_country) AS native_country,\n",
    "        CASE WHEN income_bracket = ' <=50K' THEN 0 ELSE 1 END AS income_bracket\n",
    "    FROM \n",
    "        @dataset_name.census\n",
    "    WHERE\n",
    "        age <= @age\n",
    "\"\"\""
   ]
  },
  {
   "cell_type": "markdown",
   "metadata": {},
   "source": [
    "### 3. Using google.cloud.bigquery library"
   ]
  },
  {
   "cell_type": "code",
   "execution_count": null,
   "metadata": {},
   "outputs": [],
   "source": [
    "from google.cloud import bigquery\n",
    "\n",
    "client = bigquery.Client()\n",
    "sql = SOURCE_QUERY.replace('@age', '100').replace('@dataset_name', 'sample_datasets')\n",
    "    \n",
    "df = client.query(sql).to_dataframe()\n",
    "df.head().T"
   ]
  },
  {
   "cell_type": "code",
   "execution_count": null,
   "metadata": {},
   "outputs": [],
   "source": [
    "from modules import sql_utils"
   ]
  },
  {
   "cell_type": "code",
   "execution_count": null,
   "metadata": {},
   "outputs": [],
   "source": [
    "sql = sql_utils.generate_source_query(age=100)\n",
    "print(sql)"
   ]
  },
  {
   "cell_type": "markdown",
   "metadata": {},
   "source": [
    "### 4. Save data to CSV"
   ]
  },
  {
   "cell_type": "code",
   "execution_count": null,
   "metadata": {},
   "outputs": [],
   "source": [
    "TRAIN_DATA_FILE = os.path.join(DATA_DIR,'train.csv')\n",
    "df.to_csv(TRAIN_DATA_FILE, index=False)"
   ]
  },
  {
   "cell_type": "code",
   "execution_count": null,
   "metadata": {},
   "outputs": [],
   "source": [
    "!wc -l $TRAIN_DATA_FILE \n",
    "!head $TRAIN_DATA_FILE "
   ]
  },
  {
   "cell_type": "markdown",
   "metadata": {},
   "source": [
    "## Tensorflow Data Validation for Schema Generation"
   ]
  },
  {
   "cell_type": "code",
   "execution_count": null,
   "metadata": {},
   "outputs": [],
   "source": [
    "import tensorflow_data_validation as tfdv\n",
    "\n",
    "TARGET_FEATURE_NAME = 'income_bracket'\n",
    "WEIGHT_FEATURE_NAME = 'fnlwgt'"
   ]
  },
  {
   "cell_type": "markdown",
   "metadata": {},
   "source": [
    "## 1. Compute Statistics"
   ]
  },
  {
   "cell_type": "code",
   "execution_count": null,
   "metadata": {},
   "outputs": [],
   "source": [
    "train_stats = tfdv.generate_statistics_from_csv(\n",
    "    data_location=TRAIN_DATA_FILE, \n",
    "    column_names=None, # CSV data file include header\n",
    "    stats_options=tfdv.StatsOptions(\n",
    "        weight_feature=WEIGHT_FEATURE_NAME,\n",
    "        label_feature=TARGET_FEATURE_NAME,\n",
    "        sample_rate=1.0\n",
    "    )\n",
    ")"
   ]
  },
  {
   "cell_type": "code",
   "execution_count": null,
   "metadata": {},
   "outputs": [],
   "source": [
    "tfdv.visualize_statistics(train_stats)"
   ]
  },
  {
   "cell_type": "markdown",
   "metadata": {},
   "source": [
    "## 2. Infer Schema"
   ]
  },
  {
   "cell_type": "code",
   "execution_count": null,
   "metadata": {},
   "outputs": [],
   "source": [
    "schema = tfdv.infer_schema(statistics=train_stats)\n",
    "tfdv.display_schema(schema=schema)"
   ]
  },
  {
   "cell_type": "markdown",
   "metadata": {},
   "source": [
    "## 3. Alter the Schema"
   ]
  },
  {
   "cell_type": "code",
   "execution_count": null,
   "metadata": {},
   "outputs": [],
   "source": [
    "# Relax the minimum fraction of values that must come from the domain for feature occupation.\n",
    "occupation = tfdv.get_feature(schema, 'occupation')\n",
    "occupation.distribution_constraints.min_domain_mass = 0.9\n",
    "\n",
    "# Add new value to the domain of feature native_country.\n",
    "native_country_domain = tfdv.get_domain(schema, 'native_country')\n",
    "native_country_domain.value.append('Egypt')\n",
    "\n",
    "# All features are by default in both TRAINING and SERVING environments.\n",
    "schema.default_environment.append('TRAINING')\n",
    "schema.default_environment.append('EVALUATION')\n",
    "schema.default_environment.append('SERVING')\n",
    "\n",
    "# Specify that the class feature is not in SERVING environment.\n",
    "tfdv.get_feature(schema, TARGET_FEATURE_NAME).not_in_environment.append('SERVING')"
   ]
  },
  {
   "cell_type": "markdown",
   "metadata": {},
   "source": [
    "## 4. Save the Schema"
   ]
  },
  {
   "cell_type": "code",
   "execution_count": null,
   "metadata": {},
   "outputs": [],
   "source": [
    "import shutil\n",
    "\n",
    "if os.path.exists(RAW_SCHEMA_DIR):\n",
    "    shutil.rmtree(RAW_SCHEMA_DIR)\n",
    "    \n",
    "os.mkdir(RAW_SCHEMA_DIR)\n",
    "\n",
    "raw_schema_location = os.path.join(RAW_SCHEMA_DIR, 'schema.pbtxt')\n",
    "tfdv.write_schema_text(schema, raw_schema_location)"
   ]
  },
  {
   "cell_type": "markdown",
   "metadata": {},
   "source": [
    "### Test loading saved schema"
   ]
  },
  {
   "cell_type": "code",
   "execution_count": null,
   "metadata": {},
   "outputs": [],
   "source": [
    "tfdv.load_schema_text(raw_schema_location)"
   ]
  },
  {
   "cell_type": "code",
   "execution_count": null,
   "metadata": {},
   "outputs": [],
   "source": []
  }
 ],
 "metadata": {
  "environment": {
   "name": "common-cpu.m50",
   "type": "gcloud",
   "uri": "gcr.io/deeplearning-platform-release/base-cpu:m50"
  },
  "kernelspec": {
   "display_name": "Python 3",
   "language": "python",
   "name": "python3"
  },
  "language_info": {
   "codemirror_mode": {
    "name": "ipython",
    "version": 3
   },
   "file_extension": ".py",
   "mimetype": "text/x-python",
   "name": "python",
   "nbconvert_exporter": "python",
   "pygments_lexer": "ipython3",
   "version": "3.7.6"
  }
 },
 "nbformat": 4,
 "nbformat_minor": 4
}
